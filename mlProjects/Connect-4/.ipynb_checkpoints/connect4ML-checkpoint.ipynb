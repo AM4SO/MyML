{
 "cells": [
  {
   "cell_type": "code",
   "execution_count": 3,
   "id": "9e2d9106-90e2-41b1-b0cf-65458b54e4a2",
   "metadata": {},
   "outputs": [
    {
     "name": "stdout",
     "output_type": "stream",
     "text": [
      "/home/daanyal/Documents/GitHub/MyML\n"
     ]
    }
   ],
   "source": [
    "import os\n",
    "dir = \"/home/daanyal/Documents/GitHub/MyML/\"\n",
    "os.chdir(dir)\n",
    "!pwd"
   ]
  },
  {
   "cell_type": "code",
   "execution_count": 5,
   "id": "57475c27-21ab-497d-acff-82f915bc3f04",
   "metadata": {},
   "outputs": [
    {
     "name": "stdout",
     "output_type": "stream",
     "text": [
      "/home/daanyal/Documents/GitHub/MyML/mlProjects/Connect-4\n"
     ]
    }
   ],
   "source": [
    "os.chdir(\"mlProjects/Connect-4/\")\n",
    "!pwd"
   ]
  },
  {
   "cell_type": "code",
   "execution_count": 8,
   "id": "649f95ea-eef4-43c7-9852-f8f03b0b0ecc",
   "metadata": {},
   "outputs": [],
   "source": [
    "import struct\n",
    "import numpy as np\n",
    "import matplotlib.pyplot as plt\n",
    "import tensorflow as tf\n",
    "from tensorflow import keras\n",
    "from tensorflow.keras import layers\n",
    "from tensorflow.keras import activations\n",
    "import pydot\n",
    "\n",
    "from game import game as ConnectGame"
   ]
  },
  {
   "cell_type": "code",
   "execution_count": 10,
   "id": "fb8b97e0-05d8-4a82-8d3d-6eda27a09424",
   "metadata": {},
   "outputs": [],
   "source": [
    "game = ConnectGame(4,4)\n"
   ]
  }
 ],
 "metadata": {
  "kernelspec": {
   "display_name": "ML",
   "language": "python",
   "name": "ml"
  },
  "language_info": {
   "codemirror_mode": {
    "name": "ipython",
    "version": 3
   },
   "file_extension": ".py",
   "mimetype": "text/x-python",
   "name": "python",
   "nbconvert_exporter": "python",
   "pygments_lexer": "ipython3",
   "version": "3.11.5"
  }
 },
 "nbformat": 4,
 "nbformat_minor": 5
}
